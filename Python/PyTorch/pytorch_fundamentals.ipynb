{
 "cells": [
  {
   "cell_type": "code",
   "execution_count": null,
   "id": "2ce71361",
   "metadata": {},
   "outputs": [
    {
     "name": "stdout",
     "output_type": "stream",
     "text": [
      "2.7.1+cpu\n"
     ]
    }
   ],
   "source": [
    "import torch\n",
    "import pandas as pd\n",
    "import numpy as np\n",
    "import matplotlib.pyplot as plt\n",
    "print(torch.__version__)"
   ]
  },
  {
   "cell_type": "code",
   "execution_count": null,
   "id": "5f3b96f2",
   "metadata": {},
   "outputs": [
    {
     "name": "stdout",
     "output_type": "stream",
     "text": [
      "1\n",
      "2\n",
      "torch.Size([2, 2])\n"
     ]
    }
   ],
   "source": [
    "# Scalar\n",
    "scalar = torch.tensor(7)\n",
    "# return tensor back as integer\n",
    "scalar.item()\n",
    "# Vector\n",
    "vector = torch.tensor([7, 7])\n",
    "print(vector.ndim)\n",
    "# MATRIX\n",
    "MATRIX = torch.tensor([[7, 8],\n",
    "                       [9, 10]])\n",
    "print(MATRIX.ndim)\n",
    "print(MATRIX.shape)"
   ]
  },
  {
   "cell_type": "code",
   "execution_count": null,
   "id": "e8613248",
   "metadata": {},
   "outputs": [
    {
     "name": "stdout",
     "output_type": "stream",
     "text": [
      "torch.Size([1, 3, 3])\n",
      "3\n",
      "torch.Size([2, 4, 4])\n",
      "torch.Size([4, 5, 6, 27])\n",
      "3\n"
     ]
    }
   ],
   "source": [
    "# TENSOR\n",
    "TENSOR = torch.tensor([[[1, 2, 3],\n",
    "                        [4, 5, 6], \n",
    "                        [7, 8, 9]]])\n",
    "print(TENSOR.shape)\n",
    "print(TENSOR.ndim)\n",
    "SECOND_TENSOR = torch.tensor([[[1, 2, 3, 28],\n",
    "                               [4, 5, 6, 27], \n",
    "                               [7, 8, 9, 22],\n",
    "                               [30, 31, 32, 33]],\n",
    "                               [[10, 11, 12, 21],\n",
    "                               [13, 14, 15, 19], \n",
    "                               [16, 17, 18, 20],\n",
    "                               [34, 35, 36, 37]]])\n",
    "print(SECOND_TENSOR.shape)\n",
    "\n",
    "print(SECOND_TENSOR.ndim)"
   ]
  },
  {
   "cell_type": "markdown",
   "id": "213c0fae",
   "metadata": {},
   "source": [
    "### Random Tensors\n"
   ]
  },
  {
   "cell_type": "code",
   "execution_count": 39,
   "id": "f1b08410",
   "metadata": {},
   "outputs": [
    {
     "data": {
      "text/plain": [
       "(torch.Size([224, 224, 3]), 3)"
      ]
     },
     "execution_count": 39,
     "metadata": {},
     "output_type": "execute_result"
    }
   ],
   "source": [
    "# Random tensor of size (3, 4)\n",
    "\n",
    "random_tensor = torch.rand(1, 6, 7)\n",
    "\n",
    "# Random tensor with a similar shape to an image tensor\n",
    "\n",
    "image_size_tensor = torch.rand(size=(224, 224, 3)) # height, width, color channels (R, G, B)\n",
    "image_size_tensor.shape, image_size_tensor.ndim"
   ]
  }
 ],
 "metadata": {
  "kernelspec": {
   "display_name": "Python 3",
   "language": "python",
   "name": "python3"
  },
  "language_info": {
   "codemirror_mode": {
    "name": "ipython",
    "version": 3
   },
   "file_extension": ".py",
   "mimetype": "text/x-python",
   "name": "python",
   "nbconvert_exporter": "python",
   "pygments_lexer": "ipython3",
   "version": "3.11.0"
  }
 },
 "nbformat": 4,
 "nbformat_minor": 5
}
