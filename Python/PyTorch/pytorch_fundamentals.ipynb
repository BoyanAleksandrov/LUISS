{
 "cells": [
  {
   "cell_type": "code",
   "execution_count": 2,
   "id": "2ce71361",
   "metadata": {},
   "outputs": [
    {
     "name": "stdout",
     "output_type": "stream",
     "text": [
      "2.7.1+cpu\n"
     ]
    }
   ],
   "source": [
    "import torch\n",
    "import pandas as pd\n",
    "import numpy as np\n",
    "import matplotlib.pyplot as plt\n",
    "print(torch.__version__)"
   ]
  },
  {
   "cell_type": "code",
   "execution_count": 3,
   "id": "5f3b96f2",
   "metadata": {},
   "outputs": [
    {
     "name": "stdout",
     "output_type": "stream",
     "text": [
      "1\n",
      "2\n",
      "torch.Size([2, 2])\n"
     ]
    }
   ],
   "source": [
    "# Scalar\n",
    "scalar = torch.tensor(7)\n",
    "# return tensor back as integer\n",
    "scalar.item()\n",
    "# Vector\n",
    "vector = torch.tensor([7, 7])\n",
    "print(vector.ndim)\n",
    "# MATRIX\n",
    "MATRIX = torch.tensor([[7, 8],\n",
    "                       [9, 10]])\n",
    "print(MATRIX.ndim)\n",
    "print(MATRIX.shape)"
   ]
  },
  {
   "cell_type": "code",
   "execution_count": 4,
   "id": "e8613248",
   "metadata": {},
   "outputs": [
    {
     "name": "stdout",
     "output_type": "stream",
     "text": [
      "torch.Size([1, 3, 3])\n",
      "3\n",
      "torch.Size([2, 4, 4])\n",
      "3\n"
     ]
    }
   ],
   "source": [
    "# TENSOR\n",
    "TENSOR = torch.tensor([[[1, 2, 3],\n",
    "                        [4, 5, 6], \n",
    "                        [7, 8, 9]]])\n",
    "print(TENSOR.shape)\n",
    "print(TENSOR.ndim)\n",
    "SECOND_TENSOR = torch.tensor([[[1, 2, 3, 28],\n",
    "                               [4, 5, 6, 27], \n",
    "                               [7, 8, 9, 22],\n",
    "                               [30, 31, 32, 33]],\n",
    "                               [[10, 11, 12, 21],\n",
    "                               [13, 14, 15, 19], \n",
    "                               [16, 17, 18, 20],\n",
    "                               [34, 35, 36, 37]]])\n",
    "print(SECOND_TENSOR.shape)\n",
    "\n",
    "print(SECOND_TENSOR.ndim)"
   ]
  },
  {
   "cell_type": "markdown",
   "id": "213c0fae",
   "metadata": {},
   "source": [
    "### Random Tensors\n"
   ]
  },
  {
   "cell_type": "code",
   "execution_count": 5,
   "id": "f1b08410",
   "metadata": {},
   "outputs": [
    {
     "data": {
      "text/plain": [
       "(torch.Size([224, 224, 3]), 3)"
      ]
     },
     "execution_count": 5,
     "metadata": {},
     "output_type": "execute_result"
    }
   ],
   "source": [
    "# Random tensor of size (3, 4)\n",
    "\n",
    "random_tensor = torch.rand(1, 6, 7)\n",
    "\n",
    "# Random tensor with a similar shape to an image tensor\n",
    "\n",
    "image_size_tensor = torch.rand(size=(224, 224, 3)) # height, width, color channels (R, G, B)\n",
    "image_size_tensor.shape, image_size_tensor.ndim"
   ]
  },
  {
   "cell_type": "markdown",
   "id": "d03997fc",
   "metadata": {},
   "source": [
    "### Zeros and ones\n"
   ]
  },
  {
   "cell_type": "code",
   "execution_count": null,
   "id": "0322768d",
   "metadata": {},
   "outputs": [
    {
     "data": {
      "text/plain": [
       "tensor([[[0., 0., 0., 0., 0., 0., 0.],\n",
       "         [0., 0., 0., 0., 0., 0., 0.],\n",
       "         [0., 0., 0., 0., 0., 0., 0.],\n",
       "         [0., 0., 0., 0., 0., 0., 0.],\n",
       "         [0., 0., 0., 0., 0., 0., 0.],\n",
       "         [0., 0., 0., 0., 0., 0., 0.]]])"
      ]
     },
     "execution_count": 11,
     "metadata": {},
     "output_type": "execute_result"
    }
   ],
   "source": [
    "zeros = torch.zeros(6, 7)\n",
    "ones = torch.ones(6, 7)"
   ]
  },
  {
   "cell_type": "markdown",
   "id": "151f3854",
   "metadata": {},
   "source": [
    "### Create a range of tensors and tensors-like"
   ]
  },
  {
   "cell_type": "code",
   "execution_count": null,
   "id": "d322324e",
   "metadata": {},
   "outputs": [
    {
     "data": {
      "text/plain": [
       "(tensor([0, 0, 0, 0, 0, 0, 0, 0, 0, 0]),\n",
       " tensor([ 1, 11, 21, 31, 41, 51, 61, 71, 81, 91]))"
      ]
     },
     "execution_count": 18,
     "metadata": {},
     "output_type": "execute_result"
    }
   ],
   "source": [
    "one_to_ten = torch.arange(start=1, end=100, step=10)\n",
    "ten_zeros = torch.zeros_like(input=one_to_ten)\n",
    "\n",
    "ten_zeros, one_to_ten"
   ]
  },
  {
   "cell_type": "markdown",
   "id": "b7fbe804",
   "metadata": {},
   "source": [
    "### Tensor datatypes\n",
    "\n",
    "3 of the biggest errors when using tensors:\n",
    "1. Tensors not right datatype\n",
    "2. Tensors not right shape\n",
    "3. Tensors not on the right device\n"
   ]
  },
  {
   "cell_type": "code",
   "execution_count": null,
   "id": "858a92be",
   "metadata": {},
   "outputs": [],
   "source": [
    "float_32_tensor = torch.tensor([3.3, 6.6, 9.9], dtype=None, # What datatype is the tensor?\n",
    "                                                device=None, # What device is your tensor on?\n",
    "                                                requires_grad=False) # Whether or not to track gradients for the tensor\n",
    " \n",
    "float_16_tensor = float_32_tensor.type(torch.float16) # Change the datatype of a tensor to float16\n"
   ]
  },
  {
   "cell_type": "markdown",
   "id": "34756b84",
   "metadata": {},
   "source": [
    "### Getting information from tensors (tensor attributes)\n",
    "\n",
    "1. Datatype -  `tensor.dtype`\n",
    "2. Shape -  `tensor.shape`\n",
    "3. Device -  `tensor.device`\n"
   ]
  },
  {
   "cell_type": "code",
   "execution_count": 24,
   "id": "bea88892",
   "metadata": {},
   "outputs": [
    {
     "name": "stdout",
     "output_type": "stream",
     "text": [
      "tensor([[0.0552, 0.8706, 0.7588, 0.8379],\n",
      "        [0.0327, 0.2466, 0.3848, 0.2026],\n",
      "        [0.7769, 0.1196, 0.7993, 0.3477]], dtype=torch.float16)\n",
      "Datatype: torch.float16\n",
      "Shape: torch.Size([3, 4])\n",
      "Device: cpu\n"
     ]
    }
   ],
   "source": [
    "random_tensor = torch.rand(3, 4, dtype=torch.float16)\n",
    "print(random_tensor)\n",
    "print(f\"Datatype: {random_tensor.dtype}\") # Get the datatype of a tensor\n",
    "print(f\"Shape: {random_tensor.shape}\") # Get the shape of a tensor\n",
    "print(f\"Device: {random_tensor.device}\") # Get the device of a tensor"
   ]
  },
  {
   "cell_type": "markdown",
   "id": "6fd8a9f5",
   "metadata": {},
   "source": [
    "### Tensor operations\n",
    "\n",
    "Tensors operations include:\n",
    "* Addition\n",
    "* Subtraction\n",
    "* Multiplication (element-wise)\n",
    "* Division\n",
    "* Matrix multiplication"
   ]
  },
  {
   "cell_type": "code",
   "execution_count": 32,
   "id": "673478d2",
   "metadata": {},
   "outputs": [
    {
     "data": {
      "text/plain": [
       "tensor([110, 120, 130])"
      ]
     },
     "execution_count": 32,
     "metadata": {},
     "output_type": "execute_result"
    }
   ],
   "source": [
    "first_tensor = torch.tensor([1, 2, 3])\n",
    "\n",
    "# Add 10 to every element in the first_tensor\n",
    "first_tensor = first_tensor + 10\n",
    "\n",
    "# Multiply every element in the first_tensor by 10\n",
    "first_tensor = first_tensor * 10\n",
    "\n",
    "# Subtract 10 from every element in the first_tensor\n",
    "first_tensor = first_tensor - 10\n",
    "\n",
    "# Use PyToch's built-in functions\n",
    "torch.mul(first_tensor, 10)\n",
    "\n",
    "torch.add(first_tensor, 10)\n",
    "\n",
    "\n",
    "\n"
   ]
  },
  {
   "cell_type": "markdown",
   "id": "60418477",
   "metadata": {},
   "source": [
    "### Matrix multiplication\n",
    "\n",
    "Two main ways of performing multiplication in neural networks and deep learning:\n",
    "\n",
    "1. Element-wise multiplication\n",
    "2. Matrix multiplication"
   ]
  },
  {
   "cell_type": "code",
   "execution_count": 33,
   "id": "313a6cbe",
   "metadata": {},
   "outputs": [
    {
     "name": "stdout",
     "output_type": "stream",
     "text": [
      "tensor([1, 4, 9])\n"
     ]
    }
   ],
   "source": [
    "# Element-wise multiplication\n",
    "tensor = torch.tensor([1, 2, 3])\n",
    "print(tensor * tensor)"
   ]
  },
  {
   "cell_type": "code",
   "execution_count": null,
   "id": "9bb4c4c7",
   "metadata": {},
   "outputs": [
    {
     "data": {
      "text/plain": [
       "tensor(14)"
      ]
     },
     "execution_count": 34,
     "metadata": {},
     "output_type": "execute_result"
    }
   ],
   "source": [
    "# Matrix multiplication\n",
    "\n",
    "torch.matmul(tensor, tensor) # Product of 1 * 1 + 2 * 2 + 3 * 3"
   ]
  }
 ],
 "metadata": {
  "kernelspec": {
   "display_name": "Python 3",
   "language": "python",
   "name": "python3"
  },
  "language_info": {
   "codemirror_mode": {
    "name": "ipython",
    "version": 3
   },
   "file_extension": ".py",
   "mimetype": "text/x-python",
   "name": "python",
   "nbconvert_exporter": "python",
   "pygments_lexer": "ipython3",
   "version": "3.11.0"
  }
 },
 "nbformat": 4,
 "nbformat_minor": 5
}
